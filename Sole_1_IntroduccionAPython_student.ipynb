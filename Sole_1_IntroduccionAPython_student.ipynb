{
  "nbformat": 4,
  "nbformat_minor": 0,
  "metadata": {
    "colab": {
      "provenance": []
    },
    "kernelspec": {
      "name": "python3",
      "display_name": "Python 3"
    },
    "language_info": {
      "name": "python"
    }
  },
  "cells": [
    {
      "cell_type": "markdown",
      "source": [
        "# Introducción a Python\n",
        "\n",
        "### Data Fundamentals con Python\n",
        "\n",
        "#### Febrero 2023\n",
        "\n",
        "**Aurora Cobo Aguilera**\n",
        "\n",
        "**The Valley**\n",
        "\n",
        "-----------------------------"
      ],
      "metadata": {
        "id": "GSdZPNlD6bmu"
      }
    },
    {
      "cell_type": "markdown",
      "source": [
        "## Cuadernos o *notebooks*.\n",
        "\n",
        "En este primer cuaderno, vamos a empezar a familiarizarnos con el lenguaje de programación de Python. Antes de nada debes saber qué es un cuaderno o *notebook* pues los usaremos constantemente en el bloque de Python y de *Machine Learning*.\n",
        "\n",
        "Un notebook se compone de celdas de texto o de código. La principal ventaja es la facilidad de poder separar secciones de código y texto de manera que puedas ejecutar código y acompañarlo de descripciones que los detallan."
      ],
      "metadata": {
        "id": "y0B4mgvO6bjo"
      }
    },
    {
      "cell_type": "markdown",
      "source": [
        "para imprimir un mensaje en python se usa **print**"
      ],
      "metadata": {
        "id": "j1W04alvITIS"
      }
    },
    {
      "cell_type": "markdown",
      "source": [
        "sabemos el r del circulo\n",
        "y la ecuación para calular el área a= PI* r al cuadrado.\n",
        "damos un valor al radio r\n",
        "lo multiplicamos por si mismo r*r es r al cuadrado\n",
        "lo multiplicamos por pi math.pi\n",
        "esto es el area de la circunferencia\n",
        "la imprimimos"
      ],
      "metadata": {
        "id": "qTur3FG9Nv8O"
      }
    },
    {
      "cell_type": "markdown",
      "source": [
        "r es el radio del círculo, a el área que queremos encontrar"
      ],
      "metadata": {
        "id": "9eOIacj4MKvf"
      }
    },
    {
      "cell_type": "code",
      "source": [
        "# Solicitar el radio los comentaeios van despues de almohadilla, no se ejecutan\n",
        "from math import pi\n",
        "\n",
        "r = float(input('introduce el valor del radio r:' ))\n",
        "a= round((pi*r**2),2)\n",
        "\n",
        "print('el área de la circunferencia con radio', r, 'es', a)\n"
      ],
      "metadata": {
        "id": "wMtyf4zxOb5f",
        "colab": {
          "base_uri": "https://localhost:8080/"
        },
        "outputId": "8210a263-9673-489f-bb28-d90fb5746628"
      },
      "execution_count": null,
      "outputs": [
        {
          "output_type": "stream",
          "name": "stdout",
          "text": [
            "introduce el valor del radio r:5\n",
            "el área de la circunferencia con radio 5.0 es 78.54\n"
          ]
        }
      ]
    },
    {
      "cell_type": "code",
      "source": [
        "import math\n",
        "r= float(input(\"introduce el valor del radio \" ))\n",
        "a= math.pi * r**2\n",
        "a = round(a, 2)"
      ],
      "metadata": {
        "colab": {
          "base_uri": "https://localhost:8080/"
        },
        "id": "aM1jxuELL5eT",
        "outputId": "6eabfbfb-ceb2-494c-babf-4218d2155a9f"
      },
      "execution_count": 7,
      "outputs": [
        {
          "name": "stdout",
          "output_type": "stream",
          "text": [
            "introduce el valor del radio 5\n"
          ]
        }
      ]
    },
    {
      "cell_type": "code",
      "source": [
        "print(\"EL área del círculo es:\" , a)"
      ],
      "metadata": {
        "colab": {
          "base_uri": "https://localhost:8080/"
        },
        "id": "KI0_-EBwMt2c",
        "outputId": "9aea3a9a-5ed1-4ee3-84e7-6f266227bb6c"
      },
      "execution_count": 8,
      "outputs": [
        {
          "output_type": "stream",
          "name": "stdout",
          "text": [
            "EL área del círculo es: 78.54\n"
          ]
        }
      ]
    },
    {
      "cell_type": "markdown",
      "source": [
        "Calcular el IVA 21% en un producto dado su precio sin iva  donde p es el precio sin IVA y P es el precio con IVA"
      ],
      "metadata": {
        "id": "_TWfCtl-M65k"
      }
    },
    {
      "cell_type": "markdown",
      "source": [
        "sabemos el precio sin iva p\n",
        "mulriplicamos por el 21% de iva\n",
        "sumamos esa cantidad a p\n",
        "nos da el precio con IVA\n",
        "le damos a imprimir el resultado"
      ],
      "metadata": {
        "id": "P3N38Yj0Omj8"
      }
    },
    {
      "cell_type": "code",
      "source": [
        "p= float(input('introduce el precio del producto sin iva:' ))\n",
        "iva = p*0.21\n",
        "\n",
        "print('el iva del producto es:',iva )"
      ],
      "metadata": {
        "colab": {
          "base_uri": "https://localhost:8080/"
        },
        "id": "Xv2GgQFe5KtN",
        "outputId": "74876a77-75bd-4783-b17e-dd17d502ddcc"
      },
      "execution_count": 4,
      "outputs": [
        {
          "output_type": "stream",
          "name": "stdout",
          "text": [
            "introduce el precio del producto sin iva:5\n",
            "el iva del producto es: 1.05\n"
          ]
        }
      ]
    },
    {
      "cell_type": "code",
      "source": [
        "\n",
        "p= float(input(\"introduce el valor del precio\"))\n",
        "iva = p*0.21\n",
        "print (\"valor del iva:\" , iva)\n"
      ],
      "metadata": {
        "colab": {
          "base_uri": "https://localhost:8080/"
        },
        "id": "rYfUgI9nNDrM",
        "outputId": "aea78bf2-24bf-44c4-c711-3f76c872de30"
      },
      "execution_count": 11,
      "outputs": [
        {
          "output_type": "stream",
          "name": "stdout",
          "text": [
            "introduce el valor del precio5\n",
            "valor del iva: 1.05\n"
          ]
        }
      ]
    },
    {
      "cell_type": "code",
      "source": [
        "print (P)"
      ],
      "metadata": {
        "id": "oau-sPVaNbDW",
        "colab": {
          "base_uri": "https://localhost:8080/",
          "height": 171
        },
        "outputId": "49cfbb1c-8959-4825-cb05-9f33348bceab"
      },
      "execution_count": 12,
      "outputs": [
        {
          "output_type": "error",
          "ename": "NameError",
          "evalue": "ignored",
          "traceback": [
            "\u001b[0;31m---------------------------------------------------------------------------\u001b[0m",
            "\u001b[0;31mNameError\u001b[0m                                 Traceback (most recent call last)",
            "\u001b[0;32m<ipython-input-12-fcd734c9ad73>\u001b[0m in \u001b[0;36m<cell line: 1>\u001b[0;34m()\u001b[0m\n\u001b[0;32m----> 1\u001b[0;31m \u001b[0mprint\u001b[0m \u001b[0;34m(\u001b[0m\u001b[0mP\u001b[0m\u001b[0;34m)\u001b[0m\u001b[0;34m\u001b[0m\u001b[0;34m\u001b[0m\u001b[0m\n\u001b[0m",
            "\u001b[0;31mNameError\u001b[0m: name 'P' is not defined"
          ]
        }
      ]
    },
    {
      "cell_type": "code",
      "source": [
        "x=2+3*6/2\n",
        "print (x)"
      ],
      "metadata": {
        "colab": {
          "base_uri": "https://localhost:8080/"
        },
        "id": "j0AR_2ZcaSeE",
        "outputId": "2e591e39-7beb-4e29-bf3d-9774f928ebd5"
      },
      "execution_count": null,
      "outputs": [
        {
          "output_type": "stream",
          "name": "stdout",
          "text": [
            "11.0\n"
          ]
        }
      ]
    },
    {
      "cell_type": "code",
      "source": [
        "x=(2+6)/(2+3)\n",
        "print (x)"
      ],
      "metadata": {
        "colab": {
          "base_uri": "https://localhost:8080/"
        },
        "id": "Jgw4dGtOaZ_v",
        "outputId": "458afde0-064e-4c10-b7e4-15e20b70ea44"
      },
      "execution_count": null,
      "outputs": [
        {
          "output_type": "stream",
          "name": "stdout",
          "text": [
            "1.6\n"
          ]
        }
      ]
    },
    {
      "cell_type": "code",
      "source": [
        "(4/2)**5"
      ],
      "metadata": {
        "id": "3Pn6xnXaaj_t",
        "colab": {
          "base_uri": "https://localhost:8080/"
        },
        "outputId": "bbcbf895-57e8-4acf-d361-a98f85d7ef2e"
      },
      "execution_count": null,
      "outputs": [
        {
          "output_type": "execute_result",
          "data": {
            "text/plain": [
              "32.0"
            ]
          },
          "metadata": {},
          "execution_count": 10
        }
      ]
    },
    {
      "cell_type": "code",
      "source": [
        "(4/5)**(4+2**2)\n",
        "(-3)**2\n",
        "-3**2"
      ],
      "metadata": {
        "id": "jClreP8DapAg",
        "colab": {
          "base_uri": "https://localhost:8080/"
        },
        "outputId": "0e37d73f-ef70-404f-ffc8-8984e3f93157"
      },
      "execution_count": null,
      "outputs": [
        {
          "output_type": "execute_result",
          "data": {
            "text/plain": [
              "-9"
            ]
          },
          "metadata": {},
          "execution_count": 11
        }
      ]
    },
    {
      "cell_type": "markdown",
      "source": [
        "## 1. Primeras líneas de código"
      ],
      "metadata": {
        "id": "BRCq5meB6beY"
      }
    },
    {
      "cell_type": "code",
      "source": [
        "print (\"¡Hola mundo!\")"
      ],
      "metadata": {
        "colab": {
          "base_uri": "https://localhost:8080/"
        },
        "id": "etqXTYBRH3Ce",
        "outputId": "3ecc0ecc-a5ab-4b61-8793-3b7549908695"
      },
      "execution_count": 13,
      "outputs": [
        {
          "output_type": "stream",
          "name": "stdout",
          "text": [
            "¡Hola mundo!\n"
          ]
        }
      ]
    },
    {
      "cell_type": "markdown",
      "source": [
        "Una asignación no es una ecuación.\n",
        "\n",
        "\n"
      ],
      "metadata": {
        "id": "xCrPqePO6bTT"
      }
    },
    {
      "cell_type": "code",
      "source": [
        "x = 3\n",
        "x = x + 1"
      ],
      "metadata": {
        "id": "5NOk8R1E-hhX"
      },
      "execution_count": 15,
      "outputs": []
    },
    {
      "cell_type": "markdown",
      "source": [
        "> **Ejercicio**: Antes de ejecutar la siguiente celda, qué valor crees que tiene x?"
      ],
      "metadata": {
        "id": "N_OkpaG8-h8m"
      }
    },
    {
      "cell_type": "code",
      "source": [
        "x"
      ],
      "metadata": {
        "id": "B87fCI22-iY9",
        "colab": {
          "base_uri": "https://localhost:8080/"
        },
        "outputId": "2e9f4faa-e67b-4148-e834-68aa0618a09d"
      },
      "execution_count": 16,
      "outputs": [
        {
          "output_type": "execute_result",
          "data": {
            "text/plain": [
              "4"
            ]
          },
          "metadata": {},
          "execution_count": 16
        }
      ]
    },
    {
      "cell_type": "markdown",
      "source": [
        "> **Ejercicio**: Evalúa el polinomio $x^4+x^3+2x^2-x$ en x=1.1. Utiliza variables para ejecutar varias veces el valor de x. (Resultado 4.1151)"
      ],
      "metadata": {
        "id": "dFKkIiH_-isj"
      }
    },
    {
      "cell_type": "markdown",
      "source": [
        "Calcular el valor del polinimio para distintos valores de x"
      ],
      "metadata": {
        "id": "N3jsDhT-x-qj"
      }
    },
    {
      "cell_type": "code",
      "source": [
        "x = float(input('introduce el valor de x:'))\n",
        "resultado_polinomio=x**4 + x**3 + 2*(x**2) -x\n",
        "\n",
        "print('el valor de la ecuación cuando x vale:' , x, 'es', resultado_polinomio)"
      ],
      "metadata": {
        "colab": {
          "base_uri": "https://localhost:8080/"
        },
        "id": "jbCr-r2F6UW1",
        "outputId": "414743e0-fc3e-4011-d208-8c7b8c4583d5"
      },
      "execution_count": null,
      "outputs": [
        {
          "output_type": "stream",
          "name": "stdout",
          "text": [
            "introduce el valor de x:5\n",
            "el valor de la ecuación cuando x vale: 5.0 es 795.0\n"
          ]
        }
      ]
    },
    {
      "cell_type": "code",
      "source": [
        "# valor del polinomio para culquier valor de x\n",
        "x= float(input(\"introduce el valor de x\"))\n",
        "resultado_polinomio=x**4 + x**3 + 2 * x **2 - x\n",
        "print (resultado_polinomio)\n"
      ],
      "metadata": {
        "colab": {
          "base_uri": "https://localhost:8080/"
        },
        "id": "PiHaWi1rx20A",
        "outputId": "68fa65dc-87a3-4dc5-8693-2d6c82446b28"
      },
      "execution_count": null,
      "outputs": [
        {
          "output_type": "stream",
          "name": "stdout",
          "text": [
            "introduce el valor de x5\n",
            "795.0\n"
          ]
        }
      ]
    },
    {
      "cell_type": "code",
      "source": [
        "#<SOL>\n",
        "\n",
        "#</SOL>"
      ],
      "metadata": {
        "id": "Z5gfof6r-jCu"
      },
      "execution_count": null,
      "outputs": []
    },
    {
      "cell_type": "markdown",
      "source": [
        "> **Ejercicio**: Evalúa el polinomio $x^4+x^3+\\frac{1}{2}x^2-x$ en x=10. Utiliza variables para usar varias veces el valor de x. (Resultado 11040.0)"
      ],
      "metadata": {
        "id": "ucc9JXDz-jUo"
      }
    },
    {
      "cell_type": "code",
      "source": [
        "x = float(input('introduce el valor de x'))\n",
        "resultado = x**4 + x**3 + 1/2 * x**2 - x\n",
        "\n",
        "print('elr resultado de la ecuación cuando x vale', x, 'es', resultado)"
      ],
      "metadata": {
        "colab": {
          "base_uri": "https://localhost:8080/"
        },
        "id": "BV8M3vy_N7O_",
        "outputId": "93e6c676-f752-4736-8fd7-6f1fcdfd36ff"
      },
      "execution_count": null,
      "outputs": [
        {
          "output_type": "stream",
          "name": "stdout",
          "text": [
            "introduce el valor de x10\n",
            "elr resultado de la ecuación cuando x vale 10.0 es 11040.0\n"
          ]
        }
      ]
    },
    {
      "cell_type": "code",
      "source": [
        "#<SOL>\n",
        "#solicitar  valor del polinomio para cualquier valor de x\n",
        "x= float(input(\"introduce el valor de x\"))\n",
        "res_polinomio = x**4 + x**3 + 1/2 * x**2 - x\n",
        "print (res_polinomio)\n",
        "#</SOL>"
      ],
      "metadata": {
        "id": "QkfEFPRT-jvq",
        "colab": {
          "base_uri": "https://localhost:8080/"
        },
        "outputId": "8e8d42aa-9560-417b-917f-7ee01aaf4687"
      },
      "execution_count": null,
      "outputs": [
        {
          "output_type": "stream",
          "name": "stdout",
          "text": [
            "introduce el valor de x10\n",
            "11040.0\n"
          ]
        }
      ]
    },
    {
      "cell_type": "markdown",
      "source": [
        "### 1.1 Incremento de una variable con cierta cantidad: +=\n",
        "Puedes incrementar el valor de cualquier variable de la siguiente manera"
      ],
      "metadata": {
        "id": "6gHj3HeIPeYW"
      }
    },
    {
      "cell_type": "code",
      "source": [
        "x = 0\n",
        "x +=1\n",
        "x"
      ],
      "metadata": {
        "id": "29x-IqprPezX",
        "colab": {
          "base_uri": "https://localhost:8080/"
        },
        "outputId": "e12f52b4-5169-42fb-d347-211a36337e04"
      },
      "execution_count": null,
      "outputs": [
        {
          "output_type": "execute_result",
          "data": {
            "text/plain": [
              "1"
            ]
          },
          "metadata": {},
          "execution_count": 60
        }
      ]
    },
    {
      "cell_type": "code",
      "source": [
        "a = 3\n",
        "b = 2\n",
        "a += 4 * b # a= a + 4*b\n",
        "a"
      ],
      "metadata": {
        "id": "h34UfWU6QDL_",
        "colab": {
          "base_uri": "https://localhost:8080/"
        },
        "outputId": "ef080a4b-0656-40c5-8209-049ce755791b"
      },
      "execution_count": null,
      "outputs": [
        {
          "output_type": "execute_result",
          "data": {
            "text/plain": [
              "11"
            ]
          },
          "metadata": {},
          "execution_count": 61
        }
      ]
    },
    {
      "cell_type": "markdown",
      "source": [
        "### 1.2 Formas compactas\n",
        "Lo mismo se puede aplicar a cualquier operador"
      ],
      "metadata": {
        "id": "SXjvmqvMPfDl"
      }
    },
    {
      "cell_type": "markdown",
      "source": [
        "> **Ejercicio**: Qué valor tiene z después de las siguientes sentencias?"
      ],
      "metadata": {
        "id": "05I3TJZqRHjw"
      }
    },
    {
      "cell_type": "code",
      "source": [
        "z = 2       #2\n",
        "z += 2      #4\n",
        "z += 2 - 2  #4\n",
        "z *= 2      #8\n",
        "z *= 1 + 1  #16\n",
        "z //= 2     #8\n",
        "z %= 3      #2\n",
        "z /= 3 - 1  #1\n",
        "z -= 2 + 1  #-2\n",
        "z -= 2      #-4\n",
        "z *= 3      #-12\n",
        "z"
      ],
      "metadata": {
        "id": "9PLQ_97nPfdm",
        "colab": {
          "base_uri": "https://localhost:8080/"
        },
        "outputId": "b5eee7bd-0ee2-41c9-b09a-0fb6fa1f5879"
      },
      "execution_count": null,
      "outputs": [
        {
          "output_type": "execute_result",
          "data": {
            "text/plain": [
              "-12.0"
            ]
          },
          "metadata": {},
          "execution_count": 3
        }
      ]
    },
    {
      "cell_type": "markdown",
      "source": [
        "## 2.Cadenas de texto\n",
        "\n",
        "Pueden ir entre comillas simples o dobles y también se pueden hacer operaciones con ellas."
      ],
      "metadata": {
        "id": "-9kdfpE5fIUv"
      }
    },
    {
      "cell_type": "code",
      "source": [
        "cad = 'esto es una prueba'\n",
        "cad [-5:-3]"
      ],
      "metadata": {
        "colab": {
          "base_uri": "https://localhost:8080/",
          "height": 36
        },
        "id": "vdYs-sjI8STA",
        "outputId": "1ff7705c-dd72-489d-fbbb-94cd6262aba7"
      },
      "execution_count": null,
      "outputs": [
        {
          "output_type": "execute_result",
          "data": {
            "text/plain": [
              "'ru'"
            ],
            "application/vnd.google.colaboratory.intrinsic+json": {
              "type": "string"
            }
          },
          "metadata": {},
          "execution_count": 23
        }
      ]
    },
    {
      "cell_type": "code",
      "source": [
        "'a' + 'b' #'ab'"
      ],
      "metadata": {
        "id": "E8Gclj6NfIow",
        "colab": {
          "base_uri": "https://localhost:8080/",
          "height": 36
        },
        "outputId": "afe07c60-ef32-41f4-ddd9-32f1889f8dd9"
      },
      "execution_count": null,
      "outputs": [
        {
          "output_type": "execute_result",
          "data": {
            "text/plain": [
              "'ab'"
            ],
            "application/vnd.google.colaboratory.intrinsic+json": {
              "type": "string"
            }
          },
          "metadata": {},
          "execution_count": 24
        }
      ]
    },
    {
      "cell_type": "code",
      "source": [
        "nombre = 'Pepe'\n",
        "nombre + 'Cano'\n"
      ],
      "metadata": {
        "id": "cBvIecoug1gJ",
        "colab": {
          "base_uri": "https://localhost:8080/",
          "height": 36
        },
        "outputId": "1ece6c42-d718-4be0-b563-537e9920a3d9"
      },
      "execution_count": null,
      "outputs": [
        {
          "output_type": "execute_result",
          "data": {
            "text/plain": [
              "'PepeCano'"
            ],
            "application/vnd.google.colaboratory.intrinsic+json": {
              "type": "string"
            }
          },
          "metadata": {},
          "execution_count": 7
        }
      ]
    },
    {
      "cell_type": "code",
      "source": [
        "nombre + ' ' + 'Cano'"
      ],
      "metadata": {
        "id": "0zhMjZoihFs_",
        "colab": {
          "base_uri": "https://localhost:8080/",
          "height": 36
        },
        "outputId": "e1f383d9-bcd6-4f3d-f744-895c45125f12"
      },
      "execution_count": null,
      "outputs": [
        {
          "output_type": "execute_result",
          "data": {
            "text/plain": [
              "'Pepe Cano'"
            ],
            "application/vnd.google.colaboratory.intrinsic+json": {
              "type": "string"
            }
          },
          "metadata": {},
          "execution_count": 8
        }
      ]
    },
    {
      "cell_type": "markdown",
      "source": [
        "No confundamos las cadenas con variables:"
      ],
      "metadata": {
        "id": "Pg3npbK2fKSj"
      }
    },
    {
      "cell_type": "code",
      "source": [
        "a = 1"
      ],
      "metadata": {
        "id": "glAi3lbjfKJQ"
      },
      "execution_count": null,
      "outputs": []
    },
    {
      "cell_type": "code",
      "source": [
        "'a'"
      ],
      "metadata": {
        "id": "3H7EMTd4oHeB",
        "colab": {
          "base_uri": "https://localhost:8080/",
          "height": 36
        },
        "outputId": "5e41cf97-86bf-4ca7-8ce3-46478f9279f5"
      },
      "execution_count": null,
      "outputs": [
        {
          "output_type": "execute_result",
          "data": {
            "text/plain": [
              "'a'"
            ],
            "application/vnd.google.colaboratory.intrinsic+json": {
              "type": "string"
            }
          },
          "metadata": {},
          "execution_count": 13
        }
      ]
    },
    {
      "cell_type": "code",
      "source": [
        "a"
      ],
      "metadata": {
        "id": "qK1Onz2HoJtx",
        "colab": {
          "base_uri": "https://localhost:8080/"
        },
        "outputId": "3484f271-30d9-40d5-b8c3-90b8cde73269"
      },
      "execution_count": null,
      "outputs": [
        {
          "output_type": "execute_result",
          "data": {
            "text/plain": [
              "1"
            ]
          },
          "metadata": {},
          "execution_count": 27
        }
      ]
    },
    {
      "cell_type": "markdown",
      "source": [
        "No olvidar las comillas!"
      ],
      "metadata": {
        "id": "Rml81JxLoPQI"
      }
    },
    {
      "cell_type": "code",
      "source": [
        "'Pepe'"
      ],
      "metadata": {
        "id": "IPKMNDIuoSKj",
        "colab": {
          "base_uri": "https://localhost:8080/",
          "height": 36
        },
        "outputId": "eb70a029-b63f-4521-9456-9caeeb16b56a"
      },
      "execution_count": null,
      "outputs": [
        {
          "output_type": "execute_result",
          "data": {
            "text/plain": [
              "'Pepe'"
            ],
            "application/vnd.google.colaboratory.intrinsic+json": {
              "type": "string"
            }
          },
          "metadata": {},
          "execution_count": 16
        }
      ]
    },
    {
      "cell_type": "markdown",
      "source": [
        "Ni ponerlas cuando no debes"
      ],
      "metadata": {
        "id": "3K817757fJ55"
      }
    },
    {
      "cell_type": "code",
      "source": [
        "'x' = 2"
      ],
      "metadata": {
        "id": "QVtft8_qfJr_"
      },
      "execution_count": null,
      "outputs": []
    },
    {
      "cell_type": "markdown",
      "source": [
        "Recuerda: sólo se pueden asignar valores a variables, y las cadenas no son identificadores."
      ],
      "metadata": {
        "id": "bw-slOrFfJQ7"
      }
    },
    {
      "cell_type": "markdown",
      "source": [
        "Es importante distinguir esto así como la diferencia de aplicar el operador + a números y a cadenas (concatenar)."
      ],
      "metadata": {
        "id": "BWcd6n-PoquM"
      }
    },
    {
      "cell_type": "code",
      "source": [
        "'12' + '12'"
      ],
      "metadata": {
        "id": "uoPI8Kh0oqmR",
        "colab": {
          "base_uri": "https://localhost:8080/",
          "height": 36
        },
        "outputId": "2547a687-1b03-441d-a146-f3d639cf0b93"
      },
      "execution_count": null,
      "outputs": [
        {
          "output_type": "execute_result",
          "data": {
            "text/plain": [
              "'1212'"
            ],
            "application/vnd.google.colaboratory.intrinsic+json": {
              "type": "string"
            }
          },
          "metadata": {},
          "execution_count": 17
        }
      ]
    },
    {
      "cell_type": "code",
      "source": [
        "12 + 12"
      ],
      "metadata": {
        "id": "jYv7L6KzpzBo",
        "colab": {
          "base_uri": "https://localhost:8080/"
        },
        "outputId": "84820cac-038b-4e37-eac9-2626aed0fda5"
      },
      "execution_count": null,
      "outputs": [
        {
          "output_type": "execute_result",
          "data": {
            "text/plain": [
              "24"
            ]
          },
          "metadata": {},
          "execution_count": 18
        }
      ]
    },
    {
      "cell_type": "markdown",
      "source": [
        "Por último, también se puede usar el operador * con cadenas. Es el operador de repetición y se acompaña de un número que indica las veces que queremos concatenar y repetir una cadena."
      ],
      "metadata": {
        "id": "iXP1V7xRptaL"
      }
    },
    {
      "cell_type": "code",
      "source": [
        "'Hola' * 5"
      ],
      "metadata": {
        "id": "ZmisorcIqFEG",
        "colab": {
          "base_uri": "https://localhost:8080/",
          "height": 36
        },
        "outputId": "89d3eaef-6e17-4256-b56c-67ddea9bb88e"
      },
      "execution_count": null,
      "outputs": [
        {
          "output_type": "execute_result",
          "data": {
            "text/plain": [
              "'HolaHolaHolaHolaHola'"
            ],
            "application/vnd.google.colaboratory.intrinsic+json": {
              "type": "string"
            }
          },
          "metadata": {},
          "execution_count": 19
        }
      ]
    },
    {
      "cell_type": "markdown",
      "source": [
        "> **Ejercicio**: Evalúa las siguientes sentencias y predice la salida antes de ejecutar:"
      ],
      "metadata": {
        "id": "SxwqqMBjoqdb"
      }
    },
    {
      "cell_type": "code",
      "source": [
        "a = 'b' #'bb'\n",
        "a + 'b'"
      ],
      "metadata": {
        "id": "-03p79B0oqVN",
        "colab": {
          "base_uri": "https://localhost:8080/",
          "height": 36
        },
        "outputId": "7934e71b-6769-4af6-d561-de3746ab16ee"
      },
      "execution_count": null,
      "outputs": [
        {
          "output_type": "execute_result",
          "data": {
            "text/plain": [
              "'bb'"
            ],
            "application/vnd.google.colaboratory.intrinsic+json": {
              "type": "string"
            }
          },
          "metadata": {},
          "execution_count": 20
        }
      ]
    },
    {
      "cell_type": "code",
      "source": [
        "a + 'a' #ba"
      ],
      "metadata": {
        "id": "tta43fmvzd5I",
        "colab": {
          "base_uri": "https://localhost:8080/",
          "height": 36
        },
        "outputId": "54e02d01-2bdb-4c4c-e2f7-99523c5400a3"
      },
      "execution_count": null,
      "outputs": [
        {
          "output_type": "execute_result",
          "data": {
            "text/plain": [
              "'ba'"
            ],
            "application/vnd.google.colaboratory.intrinsic+json": {
              "type": "string"
            }
          },
          "metadata": {},
          "execution_count": 21
        }
      ]
    },
    {
      "cell_type": "code",
      "source": [
        "a * 2 + 'b' * 3 #bbbbb"
      ],
      "metadata": {
        "id": "H19cNCmJzd2T",
        "colab": {
          "base_uri": "https://localhost:8080/",
          "height": 36
        },
        "outputId": "87540d0f-e563-435e-d9e3-a475321e4bcd"
      },
      "execution_count": null,
      "outputs": [
        {
          "output_type": "execute_result",
          "data": {
            "text/plain": [
              "'bbbbb'"
            ],
            "application/vnd.google.colaboratory.intrinsic+json": {
              "type": "string"
            }
          },
          "metadata": {},
          "execution_count": 22
        }
      ]
    },
    {
      "cell_type": "code",
      "source": [
        "2 * (a + 'b') #bbbb"
      ],
      "metadata": {
        "id": "NCbygiSMzdy7",
        "colab": {
          "base_uri": "https://localhost:8080/",
          "height": 36
        },
        "outputId": "650bdcf7-5ff8-4110-b79c-ff9777c0f384"
      },
      "execution_count": null,
      "outputs": [
        {
          "output_type": "execute_result",
          "data": {
            "text/plain": [
              "'bbbb'"
            ],
            "application/vnd.google.colaboratory.intrinsic+json": {
              "type": "string"
            }
          },
          "metadata": {},
          "execution_count": 23
        }
      ]
    },
    {
      "cell_type": "code",
      "source": [
        "2 * ('a' + 'b') #abab"
      ],
      "metadata": {
        "id": "7sZw1xGjzdlt",
        "colab": {
          "base_uri": "https://localhost:8080/",
          "height": 36
        },
        "outputId": "51af6c20-dbc2-4f87-bc87-7dcc1265ab6c"
      },
      "execution_count": null,
      "outputs": [
        {
          "output_type": "execute_result",
          "data": {
            "text/plain": [
              "'abab'"
            ],
            "application/vnd.google.colaboratory.intrinsic+json": {
              "type": "string"
            }
          },
          "metadata": {},
          "execution_count": 24
        }
      ]
    },
    {
      "cell_type": "markdown",
      "source": [
        "> **Ejercicio**: Repite lo mismo con las siguientes expresiones:"
      ],
      "metadata": {
        "id": "oOvVvM3ooqK_"
      }
    },
    {
      "cell_type": "code",
      "source": [
        "'a' * 3 + '/*' * 5 + 2 * 'abc' + '+'  #aaa /*/*/*/*/*abcabc+"
      ],
      "metadata": {
        "id": "U5yJLKOp00Ph",
        "colab": {
          "base_uri": "https://localhost:8080/",
          "height": 36
        },
        "outputId": "896df7bf-fae6-48b5-c6da-7fcfb7c9180e"
      },
      "execution_count": null,
      "outputs": [
        {
          "output_type": "execute_result",
          "data": {
            "text/plain": [
              "'aaa/*/*/*/*/*abcabc+'"
            ],
            "application/vnd.google.colaboratory.intrinsic+json": {
              "type": "string"
            }
          },
          "metadata": {},
          "execution_count": 25
        }
      ]
    },
    {
      "cell_type": "code",
      "source": [
        "palindromo = 'abcba'\n",
        "(4 * '<' + palindromo + '>' * 4) * 2 #'<<<<abcba>>>><<<<abcba>>>>'"
      ],
      "metadata": {
        "id": "DZcaogHh00NJ",
        "colab": {
          "base_uri": "https://localhost:8080/",
          "height": 36
        },
        "outputId": "f6d51858-22b6-448c-ad78-20bc5a39dee0"
      },
      "execution_count": null,
      "outputs": [
        {
          "output_type": "execute_result",
          "data": {
            "text/plain": [
              "'<<<<abcba>>>><<<<abcba>>>>'"
            ],
            "application/vnd.google.colaboratory.intrinsic+json": {
              "type": "string"
            }
          },
          "metadata": {},
          "execution_count": 26
        }
      ]
    },
    {
      "cell_type": "code",
      "source": [
        "subcadena = '=' + '_' * 3 + '='\n",
        "'10' * 5 + 4 * subcadena  #1010101010=___==___==___==___="
      ],
      "metadata": {
        "id": "-D3joBKu00Kk",
        "colab": {
          "base_uri": "https://localhost:8080/",
          "height": 36
        },
        "outputId": "ad411c33-2601-4b99-fc96-d3a891b4b720"
      },
      "execution_count": null,
      "outputs": [
        {
          "output_type": "execute_result",
          "data": {
            "text/plain": [
              "'1010101010=___==___==___==___='"
            ],
            "application/vnd.google.colaboratory.intrinsic+json": {
              "type": "string"
            }
          },
          "metadata": {},
          "execution_count": 27
        }
      ]
    },
    {
      "cell_type": "code",
      "source": [
        "2 * '12' + '.' + 3 * '3' + 'e-' + 4 * '76' #"
      ],
      "metadata": {
        "id": "3RnUV3TQ00IO"
      },
      "execution_count": null,
      "outputs": []
    },
    {
      "cell_type": "markdown",
      "source": [
        "> **Ejercicio**: Identifica regularidades en las siguientes cadenas, y escribe expresiones que, partiendo de subcadenas más cortas y utilizando los operadores de concatenación y repetición, produzcan las cadenas que se muestran. Introduce variables para formar las expresiones cuando lo consideres oportuno."
      ],
      "metadata": {
        "id": "HKB1FyvW2L5c"
      }
    },
    {
      "cell_type": "markdown",
      "source": [
        "> %%%%%./././<-><->"
      ],
      "metadata": {
        "id": "IM8sMTaB2n9b"
      }
    },
    {
      "cell_type": "code",
      "source": [
        "#<SOL>        #'%'*4 + './*3 + <->*2\n",
        "'%'*4 + './'*3 + '<->'*2\n",
        "#</SOL>"
      ],
      "metadata": {
        "id": "PXSUw06d00FY",
        "colab": {
          "base_uri": "https://localhost:8080/",
          "height": 36
        },
        "outputId": "2eec3981-a5af-4cac-b31a-631bfcde7c8c"
      },
      "execution_count": null,
      "outputs": [
        {
          "output_type": "execute_result",
          "data": {
            "text/plain": [
              "'%%%%./././<-><->'"
            ],
            "application/vnd.google.colaboratory.intrinsic+json": {
              "type": "string"
            }
          },
          "metadata": {},
          "execution_count": 30
        }
      ]
    },
    {
      "cell_type": "markdown",
      "source": [
        ">(@)(@)(@)======(@)(@)(@)======"
      ],
      "metadata": {
        "id": "GLywOeKX27Uk"
      }
    },
    {
      "cell_type": "code",
      "source": [
        "#<SOL>\n",
        "('(@)' * 3 + '=' * 6) * 2\n",
        "#</SOL>"
      ],
      "metadata": {
        "id": "cbB7J-Cx00BM",
        "colab": {
          "base_uri": "https://localhost:8080/",
          "height": 36
        },
        "outputId": "c6849d46-da85-42d9-aace-cd542cb46cb8"
      },
      "execution_count": null,
      "outputs": [
        {
          "output_type": "execute_result",
          "data": {
            "text/plain": [
              "'(@)(@)(@)======(@)(@)(@)======'"
            ],
            "application/vnd.google.colaboratory.intrinsic+json": {
              "type": "string"
            }
          },
          "metadata": {},
          "execution_count": 31
        }
      ]
    },
    {
      "cell_type": "markdown",
      "source": [
        "> asdfasdfasdf=-=-=-=-=-=-=-??????asdfasdf"
      ],
      "metadata": {
        "id": "Bl1OU7r227_B"
      }
    },
    {
      "cell_type": "code",
      "source": [
        "#<SOL>\n",
        "\n",
        "#</SOL>"
      ],
      "metadata": {
        "id": "TIqSI9N90z2I"
      },
      "execution_count": null,
      "outputs": []
    },
    {
      "cell_type": "markdown",
      "source": [
        "### Algunas funcionalidades útiles de cadenas\n",
        "\n",
        "Las cadenas de caracteres permiten diferentes funciones como por ejemplo acceder a los elementos de cierta posición o comprobar la longitud de la cadena. Para ello, piensa que una cadena es una secuencia de caracteres, ya sean letras, símbolos, dígitos, signos de puntuación o incluso espacios.\n",
        "\n",
        "Si queremos calcular la longitud de una cadena:\n"
      ],
      "metadata": {
        "id": "qGve5X45lkFO"
      }
    },
    {
      "cell_type": "code",
      "source": [
        "miCadena = 'Esto es una frase de ejemplo! :)'\n",
        "print(len(miCadena))"
      ],
      "metadata": {
        "id": "NVoOjT6lmFyg",
        "colab": {
          "base_uri": "https://localhost:8080/"
        },
        "outputId": "90b80fdc-127d-405b-ef84-9513dd9e7d66"
      },
      "execution_count": 18,
      "outputs": [
        {
          "output_type": "stream",
          "name": "stdout",
          "text": [
            "32\n"
          ]
        }
      ]
    },
    {
      "cell_type": "markdown",
      "source": [
        "Por otro lado, las cadenas van indexadas. Esto significa que podemos usar índices para acceder a los elementos de cada posición.\n",
        "\n",
        "Importante!! Los índices siempre empiezan en 0 en Python!! Por lo que acabarán en la longitud de la cadena - 1.\n",
        "\n",
        "Mira estos ejemplos:"
      ],
      "metadata": {
        "id": "Gk7haQUomR-P"
      }
    },
    {
      "cell_type": "code",
      "source": [
        "print(miCadena[0])"
      ],
      "metadata": {
        "id": "DpWyHlf5mRYH",
        "colab": {
          "base_uri": "https://localhost:8080/"
        },
        "outputId": "04c6f534-64c0-48c7-db10-9ec146f1b629"
      },
      "execution_count": null,
      "outputs": [
        {
          "output_type": "stream",
          "name": "stdout",
          "text": [
            "E\n"
          ]
        }
      ]
    },
    {
      "cell_type": "code",
      "source": [
        "print(miCadena[1])"
      ],
      "metadata": {
        "id": "RsjdVdEMmnGI",
        "colab": {
          "base_uri": "https://localhost:8080/"
        },
        "outputId": "faaf36b6-47e6-428f-dfbc-922d148bd0e6"
      },
      "execution_count": null,
      "outputs": [
        {
          "output_type": "stream",
          "name": "stdout",
          "text": [
            "s\n"
          ]
        }
      ]
    },
    {
      "cell_type": "code",
      "source": [
        "print(miCadena[2])"
      ],
      "metadata": {
        "id": "hjo4ctbhmpZ5",
        "colab": {
          "base_uri": "https://localhost:8080/"
        },
        "outputId": "bb844391-d1c0-4825-f316-11f2c4102695"
      },
      "execution_count": null,
      "outputs": [
        {
          "output_type": "stream",
          "name": "stdout",
          "text": [
            "t\n"
          ]
        }
      ]
    },
    {
      "cell_type": "code",
      "source": [],
      "metadata": {
        "id": "3SN64KGmBhIo"
      },
      "execution_count": null,
      "outputs": []
    },
    {
      "cell_type": "code",
      "source": [
        "print(miCadena[31])"
      ],
      "metadata": {
        "id": "05qz8NY_muLx",
        "colab": {
          "base_uri": "https://localhost:8080/"
        },
        "outputId": "f1365764-47fc-456f-bb9f-34fcd68647a6"
      },
      "execution_count": null,
      "outputs": [
        {
          "output_type": "stream",
          "name": "stdout",
          "text": [
            ")\n"
          ]
        }
      ]
    },
    {
      "cell_type": "code",
      "source": [
        "print(miCadena[32])"
      ],
      "metadata": {
        "id": "uX1EHlD4mwEF"
      },
      "execution_count": null,
      "outputs": []
    },
    {
      "cell_type": "code",
      "source": [
        "print(miCadena[-1])"
      ],
      "metadata": {
        "id": "rGaRzQjymrMN",
        "colab": {
          "base_uri": "https://localhost:8080/"
        },
        "outputId": "8f919b8f-5440-466a-f636-1cbd3f483614"
      },
      "execution_count": null,
      "outputs": [
        {
          "output_type": "stream",
          "name": "stdout",
          "text": [
            ")\n"
          ]
        }
      ]
    },
    {
      "cell_type": "code",
      "source": [
        "print(miCadena[10:20])"
      ],
      "metadata": {
        "id": "W65TmRMmmz1Y",
        "colab": {
          "base_uri": "https://localhost:8080/"
        },
        "outputId": "768195b8-f484-4448-ac7b-84f26659fa1d"
      },
      "execution_count": null,
      "outputs": [
        {
          "output_type": "stream",
          "name": "stdout",
          "text": [
            "a frase de\n"
          ]
        }
      ]
    },
    {
      "cell_type": "markdown",
      "source": [
        "Hay muchas funciones que podemos usar con cadenas. Puedes investigar más en la web."
      ],
      "metadata": {
        "id": "2vDzhkGrm8zs"
      }
    },
    {
      "cell_type": "code",
      "source": [
        "miCadena.lower()"
      ],
      "metadata": {
        "id": "uF_Jnaenm8Tv",
        "colab": {
          "base_uri": "https://localhost:8080/",
          "height": 36
        },
        "outputId": "854ab5d2-d878-4409-b285-043de2610496"
      },
      "execution_count": 19,
      "outputs": [
        {
          "output_type": "execute_result",
          "data": {
            "text/plain": [
              "'esto es una frase de ejemplo! :)'"
            ],
            "application/vnd.google.colaboratory.intrinsic+json": {
              "type": "string"
            }
          },
          "metadata": {},
          "execution_count": 19
        }
      ]
    },
    {
      "cell_type": "code",
      "source": [
        "miCadena.upper()"
      ],
      "metadata": {
        "id": "i2vqxq2xnEQ6",
        "colab": {
          "base_uri": "https://localhost:8080/",
          "height": 36
        },
        "outputId": "ead65c89-7f2f-4804-d15f-d50aee879457"
      },
      "execution_count": 20,
      "outputs": [
        {
          "output_type": "execute_result",
          "data": {
            "text/plain": [
              "'ESTO ES UNA FRASE DE EJEMPLO! :)'"
            ],
            "application/vnd.google.colaboratory.intrinsic+json": {
              "type": "string"
            }
          },
          "metadata": {},
          "execution_count": 20
        }
      ]
    },
    {
      "cell_type": "markdown",
      "source": [
        "Una cosilla muy útil es la concatenación. Para ello usa el símbolo +."
      ],
      "metadata": {
        "id": "I_34TsLvnoVr"
      }
    },
    {
      "cell_type": "code",
      "source": [
        "cadena1 = 'Me llamo '\n",
        "cadena2 = 'Aurora'\n",
        "print(cadena1)\n",
        "print(cadena2)\n",
        "print(cadena1 + cadena2)"
      ],
      "metadata": {
        "id": "ILy_ERSBnoM4",
        "colab": {
          "base_uri": "https://localhost:8080/"
        },
        "outputId": "65d15e33-415d-4901-d518-1c66c399e582"
      },
      "execution_count": null,
      "outputs": [
        {
          "output_type": "stream",
          "name": "stdout",
          "text": [
            "Me llamo \n",
            "Aurora\n",
            "Me llamo Aurora\n"
          ]
        }
      ]
    },
    {
      "cell_type": "markdown",
      "source": [
        "## 3. Funciones predefinidas"
      ],
      "metadata": {
        "id": "3GSPhBn1nRBi"
      }
    },
    {
      "cell_type": "code",
      "source": [
        "abs(-23) % int(7.3)"
      ],
      "metadata": {
        "id": "SC6J-FSfoqA_",
        "colab": {
          "base_uri": "https://localhost:8080/"
        },
        "outputId": "10bf2757-b2d5-453d-8e30-fae1f4d0ba9b"
      },
      "execution_count": null,
      "outputs": [
        {
          "output_type": "execute_result",
          "data": {
            "text/plain": [
              "2"
            ]
          },
          "metadata": {},
          "execution_count": 32
        }
      ]
    },
    {
      "cell_type": "code",
      "source": [
        "abs(round(-34.2765, 1))"
      ],
      "metadata": {
        "id": "TwqV1sx37fUY",
        "colab": {
          "base_uri": "https://localhost:8080/"
        },
        "outputId": "8294474c-1f90-47fd-c18a-28e3a2abfb2a"
      },
      "execution_count": null,
      "outputs": [
        {
          "output_type": "execute_result",
          "data": {
            "text/plain": [
              "34.3"
            ]
          },
          "metadata": {},
          "execution_count": 43
        }
      ]
    },
    {
      "cell_type": "code",
      "source": [
        "str(float(str(2) * 3 + '.123')) + '321'"
      ],
      "metadata": {
        "id": "qIdOadrQ7fOB",
        "colab": {
          "base_uri": "https://localhost:8080/",
          "height": 36
        },
        "outputId": "43d6c719-701b-4ff7-88df-af50287efa9f"
      },
      "execution_count": null,
      "outputs": [
        {
          "output_type": "execute_result",
          "data": {
            "text/plain": [
              "'222.123321'"
            ],
            "application/vnd.google.colaboratory.intrinsic+json": {
              "type": "string"
            }
          },
          "metadata": {},
          "execution_count": 44
        }
      ]
    },
    {
      "cell_type": "markdown",
      "source": [
        "> **Ejercicio**: Calcula con una sola expresión el resultado del redondeo del valor absoluto de -3.2. El resultado es 3."
      ],
      "metadata": {
        "id": "IapE-EIsop1C"
      }
    },
    {
      "cell_type": "code",
      "source": [
        "#<SOL>\n",
        "abs(int(-3.2)) #round(abs(-3.2))\n",
        "#</SOL>"
      ],
      "metadata": {
        "id": "NAT-N4Tropeh",
        "colab": {
          "base_uri": "https://localhost:8080/"
        },
        "outputId": "a545ecbf-1732-4b06-9d8b-10d3e1caed31"
      },
      "execution_count": null,
      "outputs": [
        {
          "output_type": "execute_result",
          "data": {
            "text/plain": [
              "3"
            ]
          },
          "metadata": {},
          "execution_count": 33
        }
      ]
    },
    {
      "cell_type": "markdown",
      "source": [
        "> **Ejercicio**: Convierte a cadena el resultado de la división 5011/10000 redondeado con 3 decimales."
      ],
      "metadata": {
        "id": "ICI1llOa7dLC"
      }
    },
    {
      "cell_type": "code",
      "source": [
        "#<SOL>\n",
        "str(round((5011/10000),3))\n",
        "#</SOL>"
      ],
      "metadata": {
        "id": "4iRqsLiG7dDm",
        "colab": {
          "base_uri": "https://localhost:8080/",
          "height": 36
        },
        "outputId": "b2f569c6-367f-4882-9594-3e69fb6ff5ab"
      },
      "execution_count": null,
      "outputs": [
        {
          "output_type": "execute_result",
          "data": {
            "text/plain": [
              "'0.501'"
            ],
            "application/vnd.google.colaboratory.intrinsic+json": {
              "type": "string"
            }
          },
          "metadata": {},
          "execution_count": 65
        }
      ]
    },
    {
      "cell_type": "markdown",
      "source": [
        "> **Ejercicio**: ¿Qué resulta de evaluar estas expresiones?"
      ],
      "metadata": {
        "id": "NvbWYN1_7c6Y"
      }
    },
    {
      "cell_type": "code",
      "source": [
        "str(2.1) + str(1.2)  #'2.11.2'"
      ],
      "metadata": {
        "id": "PFyBkyI07cxk",
        "colab": {
          "base_uri": "https://localhost:8080/",
          "height": 36
        },
        "outputId": "06c975a9-c349-45eb-f0f9-414bed51b6cb"
      },
      "execution_count": null,
      "outputs": [
        {
          "output_type": "execute_result",
          "data": {
            "text/plain": [
              "'2.11.2'"
            ],
            "application/vnd.google.colaboratory.intrinsic+json": {
              "type": "string"
            }
          },
          "metadata": {},
          "execution_count": 54
        }
      ]
    },
    {
      "cell_type": "code",
      "source": [
        "int(str(2) + str(3)) #23"
      ],
      "metadata": {
        "id": "mRKg-3kz-7Go",
        "colab": {
          "base_uri": "https://localhost:8080/"
        },
        "outputId": "a0af6630-d3b6-4b81-8581-7d21fc33b48c"
      },
      "execution_count": null,
      "outputs": [
        {
          "output_type": "execute_result",
          "data": {
            "text/plain": [
              "23"
            ]
          },
          "metadata": {},
          "execution_count": 55
        }
      ]
    },
    {
      "cell_type": "code",
      "source": [
        "str(int(12.3)) + '0' #'120'"
      ],
      "metadata": {
        "id": "48I1vPs1-7Ck",
        "colab": {
          "base_uri": "https://localhost:8080/",
          "height": 36
        },
        "outputId": "73a0547b-4fe4-4599-c638-bb6cbfa48a16"
      },
      "execution_count": null,
      "outputs": [
        {
          "output_type": "execute_result",
          "data": {
            "text/plain": [
              "'120'"
            ],
            "application/vnd.google.colaboratory.intrinsic+json": {
              "type": "string"
            }
          },
          "metadata": {},
          "execution_count": 56
        }
      ]
    },
    {
      "cell_type": "code",
      "source": [
        "int('2' + '3') #23"
      ],
      "metadata": {
        "id": "pnq5R0pZ-67B",
        "colab": {
          "base_uri": "https://localhost:8080/"
        },
        "outputId": "2bd2ec4e-8703-4a79-ef37-ccb08d95d2fc"
      },
      "execution_count": null,
      "outputs": [
        {
          "output_type": "execute_result",
          "data": {
            "text/plain": [
              "23"
            ]
          },
          "metadata": {},
          "execution_count": 57
        }
      ]
    },
    {
      "cell_type": "code",
      "source": [
        "str(2 + 3) #'5'"
      ],
      "metadata": {
        "id": "sM8tuUmG_I9H",
        "colab": {
          "base_uri": "https://localhost:8080/",
          "height": 36
        },
        "outputId": "b85ac8ca-50a6-4a6b-fa0a-2fe960686afe"
      },
      "execution_count": null,
      "outputs": [
        {
          "output_type": "execute_result",
          "data": {
            "text/plain": [
              "'5'"
            ],
            "application/vnd.google.colaboratory.intrinsic+json": {
              "type": "string"
            }
          },
          "metadata": {},
          "execution_count": 58
        }
      ]
    },
    {
      "cell_type": "code",
      "source": [
        "str(int(2.1) + float(3)) # '5.0'"
      ],
      "metadata": {
        "id": "QwQKxfWD_Iwp",
        "colab": {
          "base_uri": "https://localhost:8080/",
          "height": 36
        },
        "outputId": "2f50e055-962a-4883-806f-13d7ed660c91"
      },
      "execution_count": null,
      "outputs": [
        {
          "output_type": "execute_result",
          "data": {
            "text/plain": [
              "'5.0'"
            ],
            "application/vnd.google.colaboratory.intrinsic+json": {
              "type": "string"
            }
          },
          "metadata": {},
          "execution_count": 59
        }
      ]
    },
    {
      "cell_type": "markdown",
      "source": [
        "## 4. Módulos"
      ],
      "metadata": {
        "id": "3AbjlY8A7cpL"
      }
    },
    {
      "cell_type": "markdown",
      "source": [
        "Podemos usar diferentes librerías para tener más funcionalidades extra que aprovechar de Python. Por ejemplo, math para calcular el seno de un ángulo en radianes."
      ],
      "metadata": {
        "id": "0DWpwcutu3QM"
      }
    },
    {
      "cell_type": "code",
      "source": [
        "from math import sin, pi # el seno de pi en python no es igual a 0!! tiende a 0"
      ],
      "metadata": {
        "id": "mQOvIUWXvU6v"
      },
      "execution_count": 21,
      "outputs": []
    },
    {
      "cell_type": "code",
      "source": [
        "sin(pi)"
      ],
      "metadata": {
        "id": "3B7yFyrdvU6v",
        "colab": {
          "base_uri": "https://localhost:8080/"
        },
        "outputId": "0969ea0c-2440-4a7f-9c2f-d5c48289328a"
      },
      "execution_count": 22,
      "outputs": [
        {
          "output_type": "execute_result",
          "data": {
            "text/plain": [
              "1.2246467991473532e-16"
            ]
          },
          "metadata": {},
          "execution_count": 22
        }
      ]
    },
    {
      "cell_type": "markdown",
      "source": [
        "O para calcular la raiz cuadrada de algún valor o variable."
      ],
      "metadata": {
        "id": "g-zfEQcwvAvV"
      }
    },
    {
      "cell_type": "code",
      "source": [
        "from math import sqrt\n",
        "\n",
        "sqrt(9)"
      ],
      "metadata": {
        "id": "aPeRaQx2uwRI",
        "colab": {
          "base_uri": "https://localhost:8080/"
        },
        "outputId": "9fd3a5e2-db90-4757-cbce-083e37d88c0f"
      },
      "execution_count": null,
      "outputs": [
        {
          "output_type": "execute_result",
          "data": {
            "text/plain": [
              "3.0"
            ]
          },
          "metadata": {},
          "execution_count": 37
        }
      ]
    },
    {
      "cell_type": "markdown",
      "source": [
        "Además del módulo de math, hay muchísimos más que puedes usar. Vamos a mencionar alguno más, por ejemplo el de *random*."
      ],
      "metadata": {
        "id": "goVE7zSwtcfR"
      }
    },
    {
      "cell_type": "markdown",
      "source": [
        "Para ello acuérdate de primero importar la librería."
      ],
      "metadata": {
        "id": "IdB-qFbRtrZb"
      }
    },
    {
      "cell_type": "code",
      "source": [
        "from random import random"
      ],
      "metadata": {
        "id": "pfh91tRAtn5X"
      },
      "execution_count": 23,
      "outputs": []
    },
    {
      "cell_type": "markdown",
      "source": [
        "A continuación, podríamos usar la función *random* del módulo *random*."
      ],
      "metadata": {
        "id": "l_H4ENgAtvlE"
      }
    },
    {
      "cell_type": "markdown",
      "source": [
        "Como puedes comprobar ejecutando varias veces la siguiente celda, dicha función devuelve un número aleatorio entre 0 y 1."
      ],
      "metadata": {
        "id": "E9T1qWU4t-w1"
      }
    },
    {
      "cell_type": "code",
      "source": [
        "num_aleatorio = random()\n",
        "print('El número aleatorio es', num_aleatorio)"
      ],
      "metadata": {
        "id": "fGHcZYFttvV6",
        "colab": {
          "base_uri": "https://localhost:8080/"
        },
        "outputId": "a1210b7e-6b86-40ab-fa53-9d89881a7c9b"
      },
      "execution_count": 24,
      "outputs": [
        {
          "output_type": "stream",
          "name": "stdout",
          "text": [
            "El número aleatorio es 0.16357030861710942\n"
          ]
        }
      ]
    },
    {
      "cell_type": "markdown",
      "source": [
        "Investiga la documentación para descubrir qué hace la función *randint*.\n",
        "\n",
        "> **Ejercicio**: Luego, importa la función de la misma librería y úsala con algún ejemplo."
      ],
      "metadata": {
        "id": "7v7WxuUzuJgQ"
      }
    },
    {
      "cell_type": "code",
      "source": [
        "# <SOL>\n",
        "from random import randint  #un resultado aleatorio entre 1 y 10\n",
        "# </SOL>"
      ],
      "metadata": {
        "id": "IQMvsSuZuWAC"
      },
      "execution_count": 25,
      "outputs": []
    },
    {
      "cell_type": "code",
      "source": [
        "print(randint(1, 10))"
      ],
      "metadata": {
        "colab": {
          "base_uri": "https://localhost:8080/"
        },
        "id": "n-QheY4pSV7p",
        "outputId": "cb4a84ca-a9b2-46ce-f171-c18c683df52f"
      },
      "execution_count": 26,
      "outputs": [
        {
          "output_type": "stream",
          "name": "stdout",
          "text": [
            "7\n"
          ]
        }
      ]
    },
    {
      "cell_type": "code",
      "source": [],
      "metadata": {
        "id": "PKl5V2s1S-ew"
      },
      "execution_count": 26,
      "outputs": []
    },
    {
      "cell_type": "markdown",
      "source": [
        "## 5. Datos de entrada por teclado\n",
        "\n",
        "En Python es posible escribir un programa que te solicite datos de entrada por teclado, para ello se utiliza la función *input()*. Mira el siguiente ejemplo"
      ],
      "metadata": {
        "id": "DWecY6fd7cRj"
      }
    },
    {
      "cell_type": "code",
      "execution_count": 28,
      "metadata": {
        "id": "euNIUmaGntFt",
        "colab": {
          "base_uri": "https://localhost:8080/"
        },
        "outputId": "f3a1238b-506c-4558-9a95-cc724e21ec03"
      },
      "outputs": [
        {
          "output_type": "stream",
          "name": "stdout",
          "text": [
            "Dame un número: 5\n",
            "Dame otro número: 4\n",
            "Y ahora, uno más: 6\n",
            "La media es  5.0\n"
          ]
        }
      ],
      "source": [
        "a = float(input('Dame un número: '))\n",
        "b = float(input('Dame otro número: '))\n",
        "c = float(input('Y ahora, uno más: '))\n",
        "media = (a+b+c) / 3\n",
        "print('La media es ', media)"
      ]
    },
    {
      "cell_type": "markdown",
      "source": [
        "## 6. Mostrar datos y resultados\n",
        "Para mostrar algún texto durante el programa o inlcuso el valor de una variable podemos usar *print()*. En esta función debes pasar un string o cadena, con o sin formato (usando *format*). Mira el siguiente ejemplo."
      ],
      "metadata": {
        "id": "FBblsH3RDuLx"
      }
    },
    {
      "cell_type": "code",
      "source": [
        "print('Esto es un print en python y aquí puedes escribir lo que quieras*')"
      ],
      "metadata": {
        "id": "ZRJkmV9b6aV3",
        "colab": {
          "base_uri": "https://localhost:8080/"
        },
        "outputId": "cb1e93ae-2202-406f-9ff8-9e2d482cd95c"
      },
      "execution_count": 29,
      "outputs": [
        {
          "output_type": "stream",
          "name": "stdout",
          "text": [
            "Esto es un print en python y aquí puedes escribir lo que quieras*\n"
          ]
        }
      ]
    },
    {
      "cell_type": "code",
      "source": [
        "num = 3.2244\n",
        "print('incluso el valor de la variable num = {0:.2f}'.format(num))\n",
        "print('o también lo puedes meter aquí ', num, ' en medio!')"
      ],
      "metadata": {
        "id": "8Sy60fZtECH9",
        "colab": {
          "base_uri": "https://localhost:8080/"
        },
        "outputId": "0bd1191e-4f2a-417d-a8a1-b32939fa0b50"
      },
      "execution_count": null,
      "outputs": [
        {
          "output_type": "stream",
          "name": "stdout",
          "text": [
            "incluso el valor de la variable num = 3.22\n",
            "o también lo puedes meter aquí  3.2244  en medio!\n"
          ]
        }
      ]
    },
    {
      "cell_type": "markdown",
      "source": [
        "## 7. Consultar el tipo de datos\n",
        "\n",
        "Para consultar el tipo que tiene una variable en tu código puedes usar la funcion 'type()'"
      ],
      "metadata": {
        "id": "k10L_O8460Rx"
      }
    },
    {
      "cell_type": "code",
      "source": [
        "var1 = 2\n",
        "print(type(var1))"
      ],
      "metadata": {
        "id": "U5M6KLS665jF",
        "colab": {
          "base_uri": "https://localhost:8080/"
        },
        "outputId": "e7b44b1b-3f01-430b-d611-fcc7e784592b"
      },
      "execution_count": null,
      "outputs": [
        {
          "output_type": "stream",
          "name": "stdout",
          "text": [
            "<class 'int'>\n"
          ]
        }
      ]
    },
    {
      "cell_type": "code",
      "source": [
        "var2 = 2.0\n",
        "print(type(var2))"
      ],
      "metadata": {
        "id": "7ODBP1GV7F5B",
        "colab": {
          "base_uri": "https://localhost:8080/"
        },
        "outputId": "0eda465a-aad4-4ac4-afc7-969faf0996f7"
      },
      "execution_count": null,
      "outputs": [
        {
          "output_type": "stream",
          "name": "stdout",
          "text": [
            "<class 'float'>\n"
          ]
        }
      ]
    },
    {
      "cell_type": "code",
      "source": [
        "var3 = \"2\"\n",
        "print(type(var3))"
      ],
      "metadata": {
        "id": "cM1IYnhG7FvW",
        "colab": {
          "base_uri": "https://localhost:8080/"
        },
        "outputId": "f578884c-bc71-4b61-c95a-eebf879f9b14"
      },
      "execution_count": null,
      "outputs": [
        {
          "output_type": "stream",
          "name": "stdout",
          "text": [
            "<class 'str'>\n"
          ]
        }
      ]
    },
    {
      "cell_type": "markdown",
      "source": [
        "## 8. Comentarios y repaso"
      ],
      "metadata": {
        "id": "4p4VNPY_MCTX"
      }
    },
    {
      "cell_type": "code",
      "source": [
        "# Propósito: Calcula el perímetro y el área de un rectángulo a partir de su altura y anchura.\n",
        "# Autor: John Cleese\n",
        "# Fecha: 1/1/2010\n",
        "\n",
        "# Petición de los datos (en metros)\n",
        "altura = float(input('Dame la altura en metros: '))\n",
        "anchura = float(input('Dame la anchura en metros: '))\n",
        "\n",
        "# Cálculo del área y del perímetro\n",
        "area = altura * anchura\n",
        "perimetro = 2 * altura + 2 * anchura\n",
        "\n",
        "# Impresión de resultados por pantalla\n",
        "print('El perímetro es de {0:6.2f} metros'.format(perimetro))\n",
        "print('El área es de {0:6.2f} metros cuadrados'.format(area))"
      ],
      "metadata": {
        "id": "JLKZcLnFMFq9",
        "colab": {
          "base_uri": "https://localhost:8080/"
        },
        "outputId": "888b4650-685c-4e41-97b0-116c48cb8133"
      },
      "execution_count": null,
      "outputs": [
        {
          "output_type": "stream",
          "name": "stdout",
          "text": [
            "Dame la altura en metros: 23\n",
            "Dame la anchura en metros: 54\n",
            "El perímetro es de 154.00 metros\n",
            "El área es de 1242.00 metros cuadrados\n"
          ]
        }
      ]
    },
    {
      "cell_type": "markdown",
      "source": [
        "## Te toca practicar!!"
      ],
      "metadata": {
        "id": "oknDcKNmEfcD"
      }
    },
    {
      "cell_type": "markdown",
      "source": [
        "> **Ejercicio**: Diseña un programa que, a partir del valor del lado de un cuadrado (3 metros), muestre el valor de su perímetro (en metros) y el de su área (en metros cuadrados). Muestra los resultados con *print*. Resultado: 12 y 9."
      ],
      "metadata": {
        "id": "vLNVd2zKEi9h"
      }
    },
    {
      "cell_type": "code",
      "source": [
        "#<SOL>\n",
        "# Propósito: Calcula el perímetro y el área en metros partiendo de un lado del cuadrado.\n",
        "# Autor: Soledad Losada\n",
        "# Fecha: 19/06/2023\n",
        "\n",
        "# Petición de los datos (en metros)\n",
        "altura = float(input('Dame la altura en metros: '))\n",
        "anchura = altura\n",
        "\n",
        "# Cálculo del área y del perímetro\n",
        "area = altura * anchura\n",
        "perimetro = 2 * altura + 2 * anchura\n",
        "\n",
        "print ('el perímetro es de {0:6.2f} metros'. format(perimetro))\n",
        "print ('el áreas es de {0:6.2f} metros2'.format(area))\n",
        "#</SOL>"
      ],
      "metadata": {
        "id": "oiDNB5rOEXTg",
        "colab": {
          "base_uri": "https://localhost:8080/"
        },
        "outputId": "ba3f8d53-08b0-427b-a341-ec8582eeba81"
      },
      "execution_count": null,
      "outputs": [
        {
          "output_type": "stream",
          "name": "stdout",
          "text": [
            "Dame la altura en metros: 4\n",
            "el perímetro es de  16.00 metros\n",
            "el áreas es de  16.00 metros2\n"
          ]
        }
      ]
    },
    {
      "cell_type": "markdown",
      "source": [
        "> **Ejercicio**: Escribe un programa que lea de teclado el valor de un radio y te muestre por pantalla el área de dicho círculo. Para ello usa la librería *math* con su correspondiente *import* y usa también la función *input()*"
      ],
      "metadata": {
        "id": "MP5ncRs7FOHg"
      }
    },
    {
      "cell_type": "code",
      "source": [
        "#<SOL>\n",
        "from math import sin, cos, pi\n",
        "\n",
        "# Propósito: Calcula el área de un círculo teniendo el radio.\n",
        "# Autor: Soledad Losada\n",
        "# Fecha: 19/06/2023\n",
        "\n",
        "# Petición de los datos (en metros)\n",
        "r = float(input('Dame el radio en metros: '))\n",
        "area= pi * r**2\n",
        "print ('el área vale', area, 'metros2')\n",
        "\n",
        "\n",
        "#</SOL>"
      ],
      "metadata": {
        "id": "OyaDuxyGF2eW",
        "colab": {
          "base_uri": "https://localhost:8080/"
        },
        "outputId": "f9e93ea1-d7c9-48ef-a495-3e7fc125eb4d"
      },
      "execution_count": null,
      "outputs": [
        {
          "output_type": "stream",
          "name": "stdout",
          "text": [
            "Dame el radio en metros: 2\n",
            "el área vale 12.566370614359172 metros2\n"
          ]
        }
      ]
    },
    {
      "cell_type": "markdown",
      "source": [
        "> **Ejercicio**: Diseña un programa que pida por teclado el valor de la base y la altura de un triángulo y muestre el valor de su área."
      ],
      "metadata": {
        "id": "afM5zV_9FOFT"
      }
    },
    {
      "cell_type": "code",
      "source": [
        "#<SOL>\n",
        "b = float(input('dame la base del triángulo:'))\n",
        "a = float(input('dame la altura del triángulo' ))\n",
        "\n",
        "area = (b * a)/2\n",
        "print('el área del tiángulo de base', b, 'y altura', a, 'es: ', area)\n",
        "#</SOL>"
      ],
      "metadata": {
        "id": "WYUjF3fRIJo1",
        "colab": {
          "base_uri": "https://localhost:8080/"
        },
        "outputId": "4fc651ab-bfc2-4074-cc38-6fe70aea369d"
      },
      "execution_count": null,
      "outputs": [
        {
          "output_type": "stream",
          "name": "stdout",
          "text": [
            "dame la base del triángulo:5\n",
            "dame la altura del triángulo7\n",
            "el área del tiángulo de base 5.0 y altura 7.0 es:  17.5\n"
          ]
        }
      ]
    }
  ]
}